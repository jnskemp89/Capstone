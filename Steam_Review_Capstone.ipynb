{
 "cells": [
  {
   "cell_type": "code",
   "execution_count": 19,
   "metadata": {},
   "outputs": [],
   "source": [
    "import pandas as pd\n",
    "import nltk\n",
    "from nltk.corpus import stopwords\n",
    "import numpy as np\n",
    "import matplotlib.pyplot as plt\n",
    "import spacy\n",
    "import gensim\n",
    "import seaborn as sns"
   ]
  },
  {
   "cell_type": "code",
   "execution_count": 2,
   "metadata": {},
   "outputs": [
    {
     "data": {
      "text/html": [
       "<div>\n",
       "<style scoped>\n",
       "    .dataframe tbody tr th:only-of-type {\n",
       "        vertical-align: middle;\n",
       "    }\n",
       "\n",
       "    .dataframe tbody tr th {\n",
       "        vertical-align: top;\n",
       "    }\n",
       "\n",
       "    .dataframe thead th {\n",
       "        text-align: right;\n",
       "    }\n",
       "</style>\n",
       "<table border=\"1\" class=\"dataframe\">\n",
       "  <thead>\n",
       "    <tr style=\"text-align: right;\">\n",
       "      <th></th>\n",
       "      <th>app_type</th>\n",
       "      <th>game_id</th>\n",
       "      <th>game</th>\n",
       "    </tr>\n",
       "  </thead>\n",
       "  <tbody>\n",
       "    <tr>\n",
       "      <th>0</th>\n",
       "      <td>app</td>\n",
       "      <td>883710</td>\n",
       "      <td>RESIDENT EVIL 2 / BIOHAZARD RE:2</td>\n",
       "    </tr>\n",
       "    <tr>\n",
       "      <th>1</th>\n",
       "      <td>app</td>\n",
       "      <td>859580</td>\n",
       "      <td>Imperator: Rome</td>\n",
       "    </tr>\n",
       "    <tr>\n",
       "      <th>2</th>\n",
       "      <td>app</td>\n",
       "      <td>976310</td>\n",
       "      <td>Mortal Kombat 11</td>\n",
       "    </tr>\n",
       "    <tr>\n",
       "      <th>3</th>\n",
       "      <td>app</td>\n",
       "      <td>730</td>\n",
       "      <td>Counter-Strike: Global Offensive</td>\n",
       "    </tr>\n",
       "    <tr>\n",
       "      <th>4</th>\n",
       "      <td>app</td>\n",
       "      <td>632360</td>\n",
       "      <td>Risk of Rain 2</td>\n",
       "    </tr>\n",
       "  </tbody>\n",
       "</table>\n",
       "</div>"
      ],
      "text/plain": [
       "  app_type  game_id                              game\n",
       "0      app   883710  RESIDENT EVIL 2 / BIOHAZARD RE:2\n",
       "1      app   859580                   Imperator: Rome\n",
       "2      app   976310                  Mortal Kombat 11\n",
       "3      app      730  Counter-Strike: Global Offensive\n",
       "4      app   632360                    Risk of Rain 2"
      ]
     },
     "execution_count": 2,
     "metadata": {},
     "output_type": "execute_result"
    }
   ],
   "source": [
    "games = pd.read_csv('./data/games.csv', header = None, names = ['app_type', 'game_id', 'game'])\n",
    "games.head()"
   ]
  },
  {
   "cell_type": "code",
   "execution_count": 3,
   "metadata": {},
   "outputs": [
    {
     "data": {
      "text/plain": [
       "(23377, 3)"
      ]
     },
     "execution_count": 3,
     "metadata": {},
     "output_type": "execute_result"
    }
   ],
   "source": [
    "games.shape"
   ]
  },
  {
   "cell_type": "code",
   "execution_count": 4,
   "metadata": {},
   "outputs": [
    {
     "data": {
      "text/html": [
       "<div>\n",
       "<style scoped>\n",
       "    .dataframe tbody tr th:only-of-type {\n",
       "        vertical-align: middle;\n",
       "    }\n",
       "\n",
       "    .dataframe tbody tr th {\n",
       "        vertical-align: top;\n",
       "    }\n",
       "\n",
       "    .dataframe thead th {\n",
       "        text-align: right;\n",
       "    }\n",
       "</style>\n",
       "<table border=\"1\" class=\"dataframe\">\n",
       "  <thead>\n",
       "    <tr style=\"text-align: right;\">\n",
       "      <th></th>\n",
       "      <th>game_id</th>\n",
       "      <th>helpful_count</th>\n",
       "      <th>funny_count</th>\n",
       "      <th>username</th>\n",
       "      <th>user_owned_games</th>\n",
       "      <th>user_review_count</th>\n",
       "      <th>recommended</th>\n",
       "      <th>hours_played</th>\n",
       "      <th>review_date</th>\n",
       "      <th>text</th>\n",
       "    </tr>\n",
       "  </thead>\n",
       "  <tbody>\n",
       "    <tr>\n",
       "      <th>0</th>\n",
       "      <td>1000130</td>\n",
       "      <td>2</td>\n",
       "      <td>0</td>\n",
       "      <td>76561198006260288</td>\n",
       "      <td>528</td>\n",
       "      <td>87</td>\n",
       "      <td>1</td>\n",
       "      <td>1.1</td>\n",
       "      <td>January 19, 2019</td>\n",
       "      <td>A \"fast\" Tower Defense to keep you on your toe...</td>\n",
       "    </tr>\n",
       "    <tr>\n",
       "      <th>1</th>\n",
       "      <td>1000130</td>\n",
       "      <td>2</td>\n",
       "      <td>0</td>\n",
       "      <td>76561198006260288</td>\n",
       "      <td>528</td>\n",
       "      <td>87</td>\n",
       "      <td>1</td>\n",
       "      <td>1.1</td>\n",
       "      <td>January 19, 2019</td>\n",
       "      <td>A \"fast\" Tower Defense to keep you on your toe...</td>\n",
       "    </tr>\n",
       "    <tr>\n",
       "      <th>2</th>\n",
       "      <td>1000130</td>\n",
       "      <td>2</td>\n",
       "      <td>0</td>\n",
       "      <td>76561198006260288</td>\n",
       "      <td>528</td>\n",
       "      <td>87</td>\n",
       "      <td>1</td>\n",
       "      <td>1.1</td>\n",
       "      <td>January 19, 2019</td>\n",
       "      <td>A \"fast\" Tower Defense to keep you on your toe...</td>\n",
       "    </tr>\n",
       "    <tr>\n",
       "      <th>3</th>\n",
       "      <td>1000380</td>\n",
       "      <td>2</td>\n",
       "      <td>0</td>\n",
       "      <td>76561198006260288</td>\n",
       "      <td>528</td>\n",
       "      <td>87</td>\n",
       "      <td>1</td>\n",
       "      <td>1.1</td>\n",
       "      <td>January 19, 2019</td>\n",
       "      <td>A \"fast\" Tower Defense to keep you on your toe...</td>\n",
       "    </tr>\n",
       "    <tr>\n",
       "      <th>4</th>\n",
       "      <td>1000380</td>\n",
       "      <td>2</td>\n",
       "      <td>0</td>\n",
       "      <td>76561198006260288</td>\n",
       "      <td>528</td>\n",
       "      <td>87</td>\n",
       "      <td>1</td>\n",
       "      <td>1.1</td>\n",
       "      <td>January 19, 2019</td>\n",
       "      <td>A \"fast\" Tower Defense to keep you on your toe...</td>\n",
       "    </tr>\n",
       "    <tr>\n",
       "      <th>5</th>\n",
       "      <td>1000790</td>\n",
       "      <td>2</td>\n",
       "      <td>0</td>\n",
       "      <td>76561198006260288</td>\n",
       "      <td>528</td>\n",
       "      <td>87</td>\n",
       "      <td>1</td>\n",
       "      <td>1.1</td>\n",
       "      <td>January 19, 2019</td>\n",
       "      <td>A \"fast\" Tower Defense to keep you on your toe...</td>\n",
       "    </tr>\n",
       "    <tr>\n",
       "      <th>6</th>\n",
       "      <td>1000790</td>\n",
       "      <td>2</td>\n",
       "      <td>0</td>\n",
       "      <td>76561198006260288</td>\n",
       "      <td>528</td>\n",
       "      <td>87</td>\n",
       "      <td>1</td>\n",
       "      <td>1.1</td>\n",
       "      <td>January 19, 2019</td>\n",
       "      <td>A \"fast\" Tower Defense to keep you on your toe...</td>\n",
       "    </tr>\n",
       "    <tr>\n",
       "      <th>7</th>\n",
       "      <td>1000810</td>\n",
       "      <td>2</td>\n",
       "      <td>0</td>\n",
       "      <td>76561198006260288</td>\n",
       "      <td>528</td>\n",
       "      <td>87</td>\n",
       "      <td>1</td>\n",
       "      <td>1.1</td>\n",
       "      <td>January 19, 2019</td>\n",
       "      <td>A \"fast\" Tower Defense to keep you on your toe...</td>\n",
       "    </tr>\n",
       "    <tr>\n",
       "      <th>8</th>\n",
       "      <td>1000810</td>\n",
       "      <td>2</td>\n",
       "      <td>0</td>\n",
       "      <td>76561198006260288</td>\n",
       "      <td>528</td>\n",
       "      <td>87</td>\n",
       "      <td>1</td>\n",
       "      <td>1.1</td>\n",
       "      <td>January 19, 2019</td>\n",
       "      <td>A \"fast\" Tower Defense to keep you on your toe...</td>\n",
       "    </tr>\n",
       "    <tr>\n",
       "      <th>9</th>\n",
       "      <td>1000830</td>\n",
       "      <td>0</td>\n",
       "      <td>0</td>\n",
       "      <td>ArngrimEinherjar</td>\n",
       "      <td>241</td>\n",
       "      <td>26</td>\n",
       "      <td>1</td>\n",
       "      <td>0.1</td>\n",
       "      <td>April 26, 2019</td>\n",
       "      <td>Ho ho ho, ganging up!</td>\n",
       "    </tr>\n",
       "    <tr>\n",
       "      <th>10</th>\n",
       "      <td>1000830</td>\n",
       "      <td>1</td>\n",
       "      <td>1</td>\n",
       "      <td>Spilosomari</td>\n",
       "      <td>64</td>\n",
       "      <td>2</td>\n",
       "      <td>1</td>\n",
       "      <td>2.2</td>\n",
       "      <td>February 4, 2019</td>\n",
       "      <td>good♥♥♥♥♥♥ good meme. great gachi.</td>\n",
       "    </tr>\n",
       "    <tr>\n",
       "      <th>11</th>\n",
       "      <td>1000830</td>\n",
       "      <td>4</td>\n",
       "      <td>0</td>\n",
       "      <td>76561198044386030</td>\n",
       "      <td>492</td>\n",
       "      <td>16</td>\n",
       "      <td>1</td>\n",
       "      <td>0.1</td>\n",
       "      <td>January 29, 2019</td>\n",
       "      <td>10/10 because GACHIBASSBut the thing that happ...</td>\n",
       "    </tr>\n",
       "    <tr>\n",
       "      <th>12</th>\n",
       "      <td>1000830</td>\n",
       "      <td>2</td>\n",
       "      <td>0</td>\n",
       "      <td>sundownnn</td>\n",
       "      <td>97</td>\n",
       "      <td>2</td>\n",
       "      <td>1</td>\n",
       "      <td>2.9</td>\n",
       "      <td>January 24, 2019</td>\n",
       "      <td>An absolute delight. A must buy.One of the bes...</td>\n",
       "    </tr>\n",
       "    <tr>\n",
       "      <th>13</th>\n",
       "      <td>1000830</td>\n",
       "      <td>3</td>\n",
       "      <td>0</td>\n",
       "      <td>boijuu</td>\n",
       "      <td>42</td>\n",
       "      <td>9</td>\n",
       "      <td>1</td>\n",
       "      <td>0.3</td>\n",
       "      <td>January 19, 2019</td>\n",
       "      <td>Very good game!</td>\n",
       "    </tr>\n",
       "    <tr>\n",
       "      <th>14</th>\n",
       "      <td>1000830</td>\n",
       "      <td>1</td>\n",
       "      <td>2</td>\n",
       "      <td>LikelyInsane</td>\n",
       "      <td>156</td>\n",
       "      <td>2</td>\n",
       "      <td>1</td>\n",
       "      <td>0.2</td>\n",
       "      <td>January 16, 2019</td>\n",
       "      <td>Very complex game. Intense gameplay. Dazzling ...</td>\n",
       "    </tr>\n",
       "    <tr>\n",
       "      <th>15</th>\n",
       "      <td>1000830</td>\n",
       "      <td>2</td>\n",
       "      <td>0</td>\n",
       "      <td>taytoblaa</td>\n",
       "      <td>125</td>\n",
       "      <td>2</td>\n",
       "      <td>1</td>\n",
       "      <td>1.5</td>\n",
       "      <td>January 15, 2019</td>\n",
       "      <td>suction</td>\n",
       "    </tr>\n",
       "    <tr>\n",
       "      <th>16</th>\n",
       "      <td>1000830</td>\n",
       "      <td>5</td>\n",
       "      <td>0</td>\n",
       "      <td>yuzukii</td>\n",
       "      <td>68</td>\n",
       "      <td>3</td>\n",
       "      <td>1</td>\n",
       "      <td>0.2</td>\n",
       "      <td>January 15, 2019</td>\n",
       "      <td>♂ its so ♥♥♥♥ing deep ♂</td>\n",
       "    </tr>\n",
       "    <tr>\n",
       "      <th>17</th>\n",
       "      <td>1000830</td>\n",
       "      <td>2</td>\n",
       "      <td>0</td>\n",
       "      <td>o_shit_waddup</td>\n",
       "      <td>302</td>\n",
       "      <td>5</td>\n",
       "      <td>1</td>\n",
       "      <td>0.2</td>\n",
       "      <td>January 15, 2019</td>\n",
       "      <td>the best game I've bought in 2019</td>\n",
       "    </tr>\n",
       "    <tr>\n",
       "      <th>18</th>\n",
       "      <td>1000830</td>\n",
       "      <td>3</td>\n",
       "      <td>1</td>\n",
       "      <td>floris12fs</td>\n",
       "      <td>321</td>\n",
       "      <td>6</td>\n",
       "      <td>1</td>\n",
       "      <td>0.1</td>\n",
       "      <td>January 14, 2019</td>\n",
       "      <td>Billy PepeHands</td>\n",
       "    </tr>\n",
       "    <tr>\n",
       "      <th>19</th>\n",
       "      <td>1000830</td>\n",
       "      <td>5</td>\n",
       "      <td>2</td>\n",
       "      <td>s1ckneZ</td>\n",
       "      <td>187</td>\n",
       "      <td>7</td>\n",
       "      <td>1</td>\n",
       "      <td>0.1</td>\n",
       "      <td>January 14, 2019</td>\n",
       "      <td>worth every penny!</td>\n",
       "    </tr>\n",
       "  </tbody>\n",
       "</table>\n",
       "</div>"
      ],
      "text/plain": [
       "    game_id  helpful_count  funny_count           username  user_owned_games  \\\n",
       "0   1000130              2            0  76561198006260288               528   \n",
       "1   1000130              2            0  76561198006260288               528   \n",
       "2   1000130              2            0  76561198006260288               528   \n",
       "3   1000380              2            0  76561198006260288               528   \n",
       "4   1000380              2            0  76561198006260288               528   \n",
       "5   1000790              2            0  76561198006260288               528   \n",
       "6   1000790              2            0  76561198006260288               528   \n",
       "7   1000810              2            0  76561198006260288               528   \n",
       "8   1000810              2            0  76561198006260288               528   \n",
       "9   1000830              0            0   ArngrimEinherjar               241   \n",
       "10  1000830              1            1        Spilosomari                64   \n",
       "11  1000830              4            0  76561198044386030               492   \n",
       "12  1000830              2            0          sundownnn                97   \n",
       "13  1000830              3            0             boijuu                42   \n",
       "14  1000830              1            2       LikelyInsane               156   \n",
       "15  1000830              2            0          taytoblaa               125   \n",
       "16  1000830              5            0            yuzukii                68   \n",
       "17  1000830              2            0      o_shit_waddup               302   \n",
       "18  1000830              3            1         floris12fs               321   \n",
       "19  1000830              5            2            s1ckneZ               187   \n",
       "\n",
       "    user_review_count  recommended  hours_played       review_date  \\\n",
       "0                  87            1           1.1  January 19, 2019   \n",
       "1                  87            1           1.1  January 19, 2019   \n",
       "2                  87            1           1.1  January 19, 2019   \n",
       "3                  87            1           1.1  January 19, 2019   \n",
       "4                  87            1           1.1  January 19, 2019   \n",
       "5                  87            1           1.1  January 19, 2019   \n",
       "6                  87            1           1.1  January 19, 2019   \n",
       "7                  87            1           1.1  January 19, 2019   \n",
       "8                  87            1           1.1  January 19, 2019   \n",
       "9                  26            1           0.1    April 26, 2019   \n",
       "10                  2            1           2.2  February 4, 2019   \n",
       "11                 16            1           0.1  January 29, 2019   \n",
       "12                  2            1           2.9  January 24, 2019   \n",
       "13                  9            1           0.3  January 19, 2019   \n",
       "14                  2            1           0.2  January 16, 2019   \n",
       "15                  2            1           1.5  January 15, 2019   \n",
       "16                  3            1           0.2  January 15, 2019   \n",
       "17                  5            1           0.2  January 15, 2019   \n",
       "18                  6            1           0.1  January 14, 2019   \n",
       "19                  7            1           0.1  January 14, 2019   \n",
       "\n",
       "                                                 text  \n",
       "0   A \"fast\" Tower Defense to keep you on your toe...  \n",
       "1   A \"fast\" Tower Defense to keep you on your toe...  \n",
       "2   A \"fast\" Tower Defense to keep you on your toe...  \n",
       "3   A \"fast\" Tower Defense to keep you on your toe...  \n",
       "4   A \"fast\" Tower Defense to keep you on your toe...  \n",
       "5   A \"fast\" Tower Defense to keep you on your toe...  \n",
       "6   A \"fast\" Tower Defense to keep you on your toe...  \n",
       "7   A \"fast\" Tower Defense to keep you on your toe...  \n",
       "8   A \"fast\" Tower Defense to keep you on your toe...  \n",
       "9                               Ho ho ho, ganging up!  \n",
       "10                 good♥♥♥♥♥♥ good meme. great gachi.  \n",
       "11  10/10 because GACHIBASSBut the thing that happ...  \n",
       "12  An absolute delight. A must buy.One of the bes...  \n",
       "13                                    Very good game!  \n",
       "14  Very complex game. Intense gameplay. Dazzling ...  \n",
       "15                                            suction  \n",
       "16                            ♂ its so ♥♥♥♥ing deep ♂  \n",
       "17                  the best game I've bought in 2019  \n",
       "18                                    Billy PepeHands  \n",
       "19                                 worth every penny!  "
      ]
     },
     "execution_count": 4,
     "metadata": {},
     "output_type": "execute_result"
    }
   ],
   "source": [
    "reviews = pd.read_csv('./data/reviews.csv', header = None, names = ['game_id', 'helpful_count', 'funny_count', 'username', \n",
    "                                                                    'user_owned_games', 'user_review_count', 'recommended', \n",
    "                                                                    'hours_played', 'review_date', 'text'])\n",
    "reviews.head(20)"
   ]
  },
  {
   "cell_type": "code",
   "execution_count": 5,
   "metadata": {},
   "outputs": [],
   "source": [
    "# reviews.funny_count.value_counts()"
   ]
  },
  {
   "cell_type": "code",
   "execution_count": 6,
   "metadata": {},
   "outputs": [
    {
     "data": {
      "text/html": [
       "<div>\n",
       "<style scoped>\n",
       "    .dataframe tbody tr th:only-of-type {\n",
       "        vertical-align: middle;\n",
       "    }\n",
       "\n",
       "    .dataframe tbody tr th {\n",
       "        vertical-align: top;\n",
       "    }\n",
       "\n",
       "    .dataframe thead th {\n",
       "        text-align: right;\n",
       "    }\n",
       "</style>\n",
       "<table border=\"1\" class=\"dataframe\">\n",
       "  <thead>\n",
       "    <tr style=\"text-align: right;\">\n",
       "      <th></th>\n",
       "      <th>app_type</th>\n",
       "      <th>game_id</th>\n",
       "      <th>game</th>\n",
       "      <th>helpful_count</th>\n",
       "      <th>funny_count</th>\n",
       "      <th>username</th>\n",
       "      <th>user_owned_games</th>\n",
       "      <th>user_review_count</th>\n",
       "      <th>recommended</th>\n",
       "      <th>hours_played</th>\n",
       "      <th>review_date</th>\n",
       "      <th>text</th>\n",
       "    </tr>\n",
       "  </thead>\n",
       "  <tbody>\n",
       "    <tr>\n",
       "      <th>0</th>\n",
       "      <td>app</td>\n",
       "      <td>859580</td>\n",
       "      <td>Imperator: Rome</td>\n",
       "      <td>0</td>\n",
       "      <td>0</td>\n",
       "      <td>76561198007417753</td>\n",
       "      <td>180</td>\n",
       "      <td>2</td>\n",
       "      <td>-1</td>\n",
       "      <td>8.5</td>\n",
       "      <td>April 29, 2019</td>\n",
       "      <td>The game feels more like a demo than a full ga...</td>\n",
       "    </tr>\n",
       "    <tr>\n",
       "      <th>1</th>\n",
       "      <td>app</td>\n",
       "      <td>859580</td>\n",
       "      <td>Imperator: Rome</td>\n",
       "      <td>4</td>\n",
       "      <td>0</td>\n",
       "      <td>76561198060604468</td>\n",
       "      <td>157</td>\n",
       "      <td>1</td>\n",
       "      <td>-1</td>\n",
       "      <td>4.2</td>\n",
       "      <td>April 29, 2019</td>\n",
       "      <td>About 3 hours worth of playability, doesn't ho...</td>\n",
       "    </tr>\n",
       "    <tr>\n",
       "      <th>2</th>\n",
       "      <td>app</td>\n",
       "      <td>859580</td>\n",
       "      <td>Imperator: Rome</td>\n",
       "      <td>0</td>\n",
       "      <td>0</td>\n",
       "      <td>76561198040368619</td>\n",
       "      <td>87</td>\n",
       "      <td>11</td>\n",
       "      <td>1</td>\n",
       "      <td>1.2</td>\n",
       "      <td>April 29, 2019</td>\n",
       "      <td>My first Roman Empire program was Pax Romana, ...</td>\n",
       "    </tr>\n",
       "    <tr>\n",
       "      <th>3</th>\n",
       "      <td>app</td>\n",
       "      <td>859580</td>\n",
       "      <td>Imperator: Rome</td>\n",
       "      <td>4</td>\n",
       "      <td>0</td>\n",
       "      <td>76561197995444569</td>\n",
       "      <td>103</td>\n",
       "      <td>1</td>\n",
       "      <td>-1</td>\n",
       "      <td>2.3</td>\n",
       "      <td>April 29, 2019</td>\n",
       "      <td>When Sea of Thieves was released, many complai...</td>\n",
       "    </tr>\n",
       "    <tr>\n",
       "      <th>4</th>\n",
       "      <td>app</td>\n",
       "      <td>859580</td>\n",
       "      <td>Imperator: Rome</td>\n",
       "      <td>1</td>\n",
       "      <td>0</td>\n",
       "      <td>atomica</td>\n",
       "      <td>391</td>\n",
       "      <td>8</td>\n",
       "      <td>1</td>\n",
       "      <td>15.4</td>\n",
       "      <td>April 29, 2019</td>\n",
       "      <td>This may end up being my favorite Paradox game...</td>\n",
       "    </tr>\n",
       "  </tbody>\n",
       "</table>\n",
       "</div>"
      ],
      "text/plain": [
       "  app_type  game_id             game  helpful_count  funny_count  \\\n",
       "0      app   859580  Imperator: Rome              0            0   \n",
       "1      app   859580  Imperator: Rome              4            0   \n",
       "2      app   859580  Imperator: Rome              0            0   \n",
       "3      app   859580  Imperator: Rome              4            0   \n",
       "4      app   859580  Imperator: Rome              1            0   \n",
       "\n",
       "            username  user_owned_games  user_review_count  recommended  \\\n",
       "0  76561198007417753               180                  2           -1   \n",
       "1  76561198060604468               157                  1           -1   \n",
       "2  76561198040368619                87                 11            1   \n",
       "3  76561197995444569               103                  1           -1   \n",
       "4            atomica               391                  8            1   \n",
       "\n",
       "   hours_played     review_date  \\\n",
       "0           8.5  April 29, 2019   \n",
       "1           4.2  April 29, 2019   \n",
       "2           1.2  April 29, 2019   \n",
       "3           2.3  April 29, 2019   \n",
       "4          15.4  April 29, 2019   \n",
       "\n",
       "                                                text  \n",
       "0  The game feels more like a demo than a full ga...  \n",
       "1  About 3 hours worth of playability, doesn't ho...  \n",
       "2  My first Roman Empire program was Pax Romana, ...  \n",
       "3  When Sea of Thieves was released, many complai...  \n",
       "4  This may end up being my favorite Paradox game...  "
      ]
     },
     "execution_count": 6,
     "metadata": {},
     "output_type": "execute_result"
    }
   ],
   "source": [
    "steam_df = games.merge(reviews, how = \"inner\", on = 'game_id')\n",
    "steam_df.head()"
   ]
  },
  {
   "cell_type": "code",
   "execution_count": 7,
   "metadata": {},
   "outputs": [],
   "source": [
    "steam_df = steam_df.drop(['app_type', 'game_id'], axis = 1)"
   ]
  },
  {
   "cell_type": "code",
   "execution_count": 8,
   "metadata": {},
   "outputs": [
    {
     "data": {
      "text/html": [
       "<div>\n",
       "<style scoped>\n",
       "    .dataframe tbody tr th:only-of-type {\n",
       "        vertical-align: middle;\n",
       "    }\n",
       "\n",
       "    .dataframe tbody tr th {\n",
       "        vertical-align: top;\n",
       "    }\n",
       "\n",
       "    .dataframe thead th {\n",
       "        text-align: right;\n",
       "    }\n",
       "</style>\n",
       "<table border=\"1\" class=\"dataframe\">\n",
       "  <thead>\n",
       "    <tr style=\"text-align: right;\">\n",
       "      <th></th>\n",
       "      <th>game</th>\n",
       "      <th>helpful_count</th>\n",
       "      <th>funny_count</th>\n",
       "      <th>username</th>\n",
       "      <th>user_owned_games</th>\n",
       "      <th>user_review_count</th>\n",
       "      <th>recommended</th>\n",
       "      <th>hours_played</th>\n",
       "      <th>review_date</th>\n",
       "      <th>text</th>\n",
       "    </tr>\n",
       "  </thead>\n",
       "  <tbody>\n",
       "    <tr>\n",
       "      <th>0</th>\n",
       "      <td>Imperator: Rome</td>\n",
       "      <td>0</td>\n",
       "      <td>0</td>\n",
       "      <td>76561198007417753</td>\n",
       "      <td>180</td>\n",
       "      <td>2</td>\n",
       "      <td>-1</td>\n",
       "      <td>8.5</td>\n",
       "      <td>April 29, 2019</td>\n",
       "      <td>The game feels more like a demo than a full ga...</td>\n",
       "    </tr>\n",
       "    <tr>\n",
       "      <th>1</th>\n",
       "      <td>Imperator: Rome</td>\n",
       "      <td>4</td>\n",
       "      <td>0</td>\n",
       "      <td>76561198060604468</td>\n",
       "      <td>157</td>\n",
       "      <td>1</td>\n",
       "      <td>-1</td>\n",
       "      <td>4.2</td>\n",
       "      <td>April 29, 2019</td>\n",
       "      <td>About 3 hours worth of playability, doesn't ho...</td>\n",
       "    </tr>\n",
       "    <tr>\n",
       "      <th>2</th>\n",
       "      <td>Imperator: Rome</td>\n",
       "      <td>0</td>\n",
       "      <td>0</td>\n",
       "      <td>76561198040368619</td>\n",
       "      <td>87</td>\n",
       "      <td>11</td>\n",
       "      <td>1</td>\n",
       "      <td>1.2</td>\n",
       "      <td>April 29, 2019</td>\n",
       "      <td>My first Roman Empire program was Pax Romana, ...</td>\n",
       "    </tr>\n",
       "    <tr>\n",
       "      <th>3</th>\n",
       "      <td>Imperator: Rome</td>\n",
       "      <td>4</td>\n",
       "      <td>0</td>\n",
       "      <td>76561197995444569</td>\n",
       "      <td>103</td>\n",
       "      <td>1</td>\n",
       "      <td>-1</td>\n",
       "      <td>2.3</td>\n",
       "      <td>April 29, 2019</td>\n",
       "      <td>When Sea of Thieves was released, many complai...</td>\n",
       "    </tr>\n",
       "    <tr>\n",
       "      <th>4</th>\n",
       "      <td>Imperator: Rome</td>\n",
       "      <td>1</td>\n",
       "      <td>0</td>\n",
       "      <td>atomica</td>\n",
       "      <td>391</td>\n",
       "      <td>8</td>\n",
       "      <td>1</td>\n",
       "      <td>15.4</td>\n",
       "      <td>April 29, 2019</td>\n",
       "      <td>This may end up being my favorite Paradox game...</td>\n",
       "    </tr>\n",
       "  </tbody>\n",
       "</table>\n",
       "</div>"
      ],
      "text/plain": [
       "              game  helpful_count  funny_count           username  \\\n",
       "0  Imperator: Rome              0            0  76561198007417753   \n",
       "1  Imperator: Rome              4            0  76561198060604468   \n",
       "2  Imperator: Rome              0            0  76561198040368619   \n",
       "3  Imperator: Rome              4            0  76561197995444569   \n",
       "4  Imperator: Rome              1            0            atomica   \n",
       "\n",
       "   user_owned_games  user_review_count  recommended  hours_played  \\\n",
       "0               180                  2           -1           8.5   \n",
       "1               157                  1           -1           4.2   \n",
       "2                87                 11            1           1.2   \n",
       "3               103                  1           -1           2.3   \n",
       "4               391                  8            1          15.4   \n",
       "\n",
       "      review_date                                               text  \n",
       "0  April 29, 2019  The game feels more like a demo than a full ga...  \n",
       "1  April 29, 2019  About 3 hours worth of playability, doesn't ho...  \n",
       "2  April 29, 2019  My first Roman Empire program was Pax Romana, ...  \n",
       "3  April 29, 2019  When Sea of Thieves was released, many complai...  \n",
       "4  April 29, 2019  This may end up being my favorite Paradox game...  "
      ]
     },
     "execution_count": 8,
     "metadata": {},
     "output_type": "execute_result"
    }
   ],
   "source": [
    "steam_df.head()"
   ]
  },
  {
   "cell_type": "code",
   "execution_count": 9,
   "metadata": {},
   "outputs": [],
   "source": [
    "# pd.options.display.max_colwidth = 500\n",
    "# steam_df[['game', 'text']].loc[steam_df['funny_count'] == steam_df['funny_count'].max()]"
   ]
  },
  {
   "cell_type": "code",
   "execution_count": 10,
   "metadata": {},
   "outputs": [],
   "source": [
    "# steam_df[['game', 'text']].loc[steam_df['helpful_count'] == steam_df['helpful_count'].max()]"
   ]
  },
  {
   "cell_type": "code",
   "execution_count": 11,
   "metadata": {},
   "outputs": [],
   "source": [
    "# len(steam_df.game.value_counts())"
   ]
  },
  {
   "cell_type": "code",
   "execution_count": 12,
   "metadata": {},
   "outputs": [
    {
     "data": {
      "text/plain": [
       "[\"Tom Clancy's Rainbow Six® Siege\",\n",
       " 'Borderlands 2',\n",
       " 'Subnautica',\n",
       " 'Left 4 Dead 2',\n",
       " \"PLAYERUNKNOWN'S BATTLEGROUNDS\",\n",
       " 'Z1 Battle Royale',\n",
       " 'Starbound',\n",
       " 'Fallout 4',\n",
       " 'The Forest',\n",
       " 'Mount &amp; Blade: Warband']"
      ]
     },
     "execution_count": 12,
     "metadata": {},
     "output_type": "execute_result"
    }
   ],
   "source": [
    "top_games = steam_df.game.value_counts().head(10).to_dict()\n",
    "top_games = list(top_games.keys())\n",
    "top_games"
   ]
  },
  {
   "cell_type": "code",
   "execution_count": 13,
   "metadata": {},
   "outputs": [],
   "source": [
    "steam_df = steam_df[steam_df.game.isin(top_games)]"
   ]
  },
  {
   "cell_type": "code",
   "execution_count": 14,
   "metadata": {},
   "outputs": [
    {
     "data": {
      "text/plain": [
       "(464426, 10)"
      ]
     },
     "execution_count": 14,
     "metadata": {},
     "output_type": "execute_result"
    }
   ],
   "source": [
    "steam_df.shape"
   ]
  },
  {
   "cell_type": "code",
   "execution_count": 15,
   "metadata": {},
   "outputs": [],
   "source": [
    "steam_df.review_date = pd.to_datetime(steam_df.review_date)"
   ]
  },
  {
   "cell_type": "code",
   "execution_count": 16,
   "metadata": {
    "scrolled": false
   },
   "outputs": [
    {
     "data": {
      "text/plain": [
       "game                         object\n",
       "helpful_count                 int64\n",
       "funny_count                   int64\n",
       "username                     object\n",
       "user_owned_games              int64\n",
       "user_review_count             int64\n",
       "recommended                   int64\n",
       "hours_played                float64\n",
       "review_date          datetime64[ns]\n",
       "text                         object\n",
       "dtype: object"
      ]
     },
     "execution_count": 16,
     "metadata": {},
     "output_type": "execute_result"
    }
   ],
   "source": [
    "steam_df.dtypes"
   ]
  },
  {
   "cell_type": "code",
   "execution_count": 17,
   "metadata": {},
   "outputs": [
    {
     "name": "stderr",
     "output_type": "stream",
     "text": [
      "[nltk_data] Downloading package punkt to\n",
      "[nltk_data]     C:\\Users\\John\\AppData\\Roaming\\nltk_data...\n",
      "[nltk_data]   Package punkt is already up-to-date!\n",
      "[nltk_data] Downloading package stopwords to\n",
      "[nltk_data]     C:\\Users\\John\\AppData\\Roaming\\nltk_data...\n",
      "[nltk_data]   Package stopwords is already up-to-date!\n"
     ]
    },
    {
     "data": {
      "text/plain": [
       "True"
      ]
     },
     "execution_count": 17,
     "metadata": {},
     "output_type": "execute_result"
    }
   ],
   "source": [
    "nltk.download('punkt')\n",
    "nltk.download('stopwords')"
   ]
  },
  {
   "cell_type": "code",
   "execution_count": 45,
   "metadata": {},
   "outputs": [],
   "source": [
    "stop_words = stopwords.words('english')\n",
    "steam_df['text_tok'] = steam_df['text'].apply(lambda x: ' '.join(w for w in str(x).split() if w not in stop_words))"
   ]
  },
  {
   "cell_type": "code",
   "execution_count": 48,
   "metadata": {},
   "outputs": [],
   "source": [
    "# steam_df.head()\n",
    "steam_df['text_tok'] = steam_df['text_tok'].astype(str)\n",
    "# steam_df['text_tok'] = steam_df['text_tok'].str.lower()"
   ]
  },
  {
   "cell_type": "code",
   "execution_count": 54,
   "metadata": {},
   "outputs": [],
   "source": [
    "import re\n",
    "steam_df['text_tok'] = steam_df['text_tok'].replace('r[^a-z\\s]', '')"
   ]
  },
  {
   "cell_type": "code",
   "execution_count": 55,
   "metadata": {},
   "outputs": [],
   "source": [
    "steam_df['text_tok'] = steam_df['text_tok'].str.lower()"
   ]
  },
  {
   "cell_type": "code",
   "execution_count": 56,
   "metadata": {},
   "outputs": [],
   "source": [
    "from nltk.tokenize import word_tokenize, sent_tokenize, RegexpTokenizer\n",
    "tokenizer = RegexpTokenizer(r'\\w+')\n",
    "\n",
    "# steam_df['text_tok'] = steam_df['text_tok'].apply(tokenizer.tokenize)  #MemoryError\n",
    "\n",
    "\n",
    "steam_df['text_tok'] = steam_df['text_tok'].apply(word_tokenize)"
   ]
  },
  {
   "cell_type": "code",
   "execution_count": 57,
   "metadata": {},
   "outputs": [],
   "source": [
    "steam_df.to_csv('steam_df', sep = ',')"
   ]
  },
  {
   "cell_type": "markdown",
   "metadata": {},
   "source": [
    "### Start from here with saved CSV"
   ]
  },
  {
   "cell_type": "code",
   "execution_count": 6,
   "metadata": {},
   "outputs": [],
   "source": [
    "steam_df = pd.read_csv('./data/steam_df')"
   ]
  },
  {
   "cell_type": "code",
   "execution_count": 7,
   "metadata": {
    "scrolled": false
   },
   "outputs": [
    {
     "data": {
      "text/html": [
       "<div>\n",
       "<style scoped>\n",
       "    .dataframe tbody tr th:only-of-type {\n",
       "        vertical-align: middle;\n",
       "    }\n",
       "\n",
       "    .dataframe tbody tr th {\n",
       "        vertical-align: top;\n",
       "    }\n",
       "\n",
       "    .dataframe thead th {\n",
       "        text-align: right;\n",
       "    }\n",
       "</style>\n",
       "<table border=\"1\" class=\"dataframe\">\n",
       "  <thead>\n",
       "    <tr style=\"text-align: right;\">\n",
       "      <th></th>\n",
       "      <th>game</th>\n",
       "      <th>helpful_count</th>\n",
       "      <th>funny_count</th>\n",
       "      <th>username</th>\n",
       "      <th>user_owned_games</th>\n",
       "      <th>user_review_count</th>\n",
       "      <th>recommended</th>\n",
       "      <th>hours_played</th>\n",
       "      <th>review_date</th>\n",
       "      <th>text</th>\n",
       "      <th>text_tok</th>\n",
       "    </tr>\n",
       "  </thead>\n",
       "  <tbody>\n",
       "    <tr>\n",
       "      <th>0</th>\n",
       "      <td>Tom Clancy's Rainbow Six® Siege</td>\n",
       "      <td>0</td>\n",
       "      <td>0</td>\n",
       "      <td>YatoAkito</td>\n",
       "      <td>24</td>\n",
       "      <td>16</td>\n",
       "      <td>1</td>\n",
       "      <td>174.8</td>\n",
       "      <td>2019-04-29</td>\n",
       "      <td>Yes</td>\n",
       "      <td>['yes']</td>\n",
       "    </tr>\n",
       "    <tr>\n",
       "      <th>1</th>\n",
       "      <td>Tom Clancy's Rainbow Six® Siege</td>\n",
       "      <td>0</td>\n",
       "      <td>0</td>\n",
       "      <td>LucasXru</td>\n",
       "      <td>236</td>\n",
       "      <td>7</td>\n",
       "      <td>1</td>\n",
       "      <td>403.1</td>\n",
       "      <td>2019-04-29</td>\n",
       "      <td>Best tactical shooter there is on the market a...</td>\n",
       "      <td>['best', 'tactical', 'shooter', 'market', 'tim...</td>\n",
       "    </tr>\n",
       "    <tr>\n",
       "      <th>2</th>\n",
       "      <td>Tom Clancy's Rainbow Six® Siege</td>\n",
       "      <td>0</td>\n",
       "      <td>0</td>\n",
       "      <td>CommitGunHead</td>\n",
       "      <td>61</td>\n",
       "      <td>6</td>\n",
       "      <td>1</td>\n",
       "      <td>162.6</td>\n",
       "      <td>2019-04-29</td>\n",
       "      <td>Great game, I like rezing a teammate and then ...</td>\n",
       "      <td>['great', 'game', ',', 'i', 'like', 'rezing', ...</td>\n",
       "    </tr>\n",
       "    <tr>\n",
       "      <th>3</th>\n",
       "      <td>Tom Clancy's Rainbow Six® Siege</td>\n",
       "      <td>0</td>\n",
       "      <td>0</td>\n",
       "      <td>gunsandvanity</td>\n",
       "      <td>34</td>\n",
       "      <td>7</td>\n",
       "      <td>1</td>\n",
       "      <td>18.6</td>\n",
       "      <td>2019-04-29</td>\n",
       "      <td>10/10 WOULD FUSE THE HOSTAGE AGAIN</td>\n",
       "      <td>['10/10', 'would', 'fuse', 'the', 'hostage', '...</td>\n",
       "    </tr>\n",
       "    <tr>\n",
       "      <th>4</th>\n",
       "      <td>Tom Clancy's Rainbow Six® Siege</td>\n",
       "      <td>0</td>\n",
       "      <td>0</td>\n",
       "      <td>76561198261548039</td>\n",
       "      <td>7</td>\n",
       "      <td>1</td>\n",
       "      <td>1</td>\n",
       "      <td>38.2</td>\n",
       "      <td>2019-04-29</td>\n",
       "      <td>very good game</td>\n",
       "      <td>['good', 'game']</td>\n",
       "    </tr>\n",
       "  </tbody>\n",
       "</table>\n",
       "</div>"
      ],
      "text/plain": [
       "                              game  helpful_count  funny_count  \\\n",
       "0  Tom Clancy's Rainbow Six® Siege              0            0   \n",
       "1  Tom Clancy's Rainbow Six® Siege              0            0   \n",
       "2  Tom Clancy's Rainbow Six® Siege              0            0   \n",
       "3  Tom Clancy's Rainbow Six® Siege              0            0   \n",
       "4  Tom Clancy's Rainbow Six® Siege              0            0   \n",
       "\n",
       "            username  user_owned_games  user_review_count  recommended  \\\n",
       "0          YatoAkito                24                 16            1   \n",
       "1           LucasXru               236                  7            1   \n",
       "2      CommitGunHead                61                  6            1   \n",
       "3      gunsandvanity                34                  7            1   \n",
       "4  76561198261548039                 7                  1            1   \n",
       "\n",
       "   hours_played review_date  \\\n",
       "0         174.8  2019-04-29   \n",
       "1         403.1  2019-04-29   \n",
       "2         162.6  2019-04-29   \n",
       "3          18.6  2019-04-29   \n",
       "4          38.2  2019-04-29   \n",
       "\n",
       "                                                text  \\\n",
       "0                                                Yes   \n",
       "1  Best tactical shooter there is on the market a...   \n",
       "2  Great game, I like rezing a teammate and then ...   \n",
       "3                 10/10 WOULD FUSE THE HOSTAGE AGAIN   \n",
       "4                                     very good game   \n",
       "\n",
       "                                            text_tok  \n",
       "0                                            ['yes']  \n",
       "1  ['best', 'tactical', 'shooter', 'market', 'tim...  \n",
       "2  ['great', 'game', ',', 'i', 'like', 'rezing', ...  \n",
       "3  ['10/10', 'would', 'fuse', 'the', 'hostage', '...  \n",
       "4                                   ['good', 'game']  "
      ]
     },
     "execution_count": 7,
     "metadata": {},
     "output_type": "execute_result"
    }
   ],
   "source": [
    "steam_df = steam_df.drop('Unnamed: 0', axis = 1)\n",
    "steam_df.head(5)"
   ]
  },
  {
   "cell_type": "markdown",
   "metadata": {},
   "source": [
    "#### Vectorization and train_test_split"
   ]
  },
  {
   "cell_type": "code",
   "execution_count": 8,
   "metadata": {},
   "outputs": [],
   "source": [
    "from sklearn.model_selection import train_test_split\n",
    "from sklearn.feature_extraction.text import CountVectorizer, TfidfVectorizer\n",
    "from sklearn.naive_bayes import MultinomialNB\n",
    "from collections import Counter\n",
    "\n",
    "# Counter(np.concatenate(steam_df.text_tok)).most_common(10)"
   ]
  },
  {
   "cell_type": "code",
   "execution_count": 9,
   "metadata": {},
   "outputs": [
    {
     "data": {
      "text/plain": [
       "0                                                   ['yes']\n",
       "1         ['best', 'tactical', 'shooter', 'market', 'tim...\n",
       "2         ['great', 'game', ',', 'i', 'like', 'rezing', ...\n",
       "3         ['10/10', 'would', 'fuse', 'the', 'hostage', '...\n",
       "4                                          ['good', 'game']\n",
       "5         ['very', 'nice', 'game', '.', 'play', '.', 'ye...\n",
       "6                                  ['not', 'for', 'nubbbs']\n",
       "7         ['this', 'one', 'best', 'games', 'ever', 'i', ...\n",
       "8                                                    ['：）']\n",
       "9         ['the', 'game', 'great', ',', 'guns', 'feel', ...\n",
       "10        ['i', \"'ve\", 'really', 'enjoyed', 'game', 'buy...\n",
       "11        ['this', 'game', 'lot', 'like', '50', 'cent', ...\n",
       "12        ['ran', 'by', 'probly', 'the', 'same', 'sjws',...\n",
       "13        ['as', 'long', 'buy', 'starter', 'edition', 'g...\n",
       "14        ['great', 'game', 'bugs', 'better', 'friends',...\n",
       "15                                  ['best', 'fps', 'game']\n",
       "16                                            ['i', 'like']\n",
       "17                  ['point', 'click', 'adventure', 'game']\n",
       "18        ['posted', ':', 'june', '4', ',', '2015orion',...\n",
       "19           ['great', 'game', 'totally', 'worth', 'price']\n",
       "20                                        ['games', 'sick']\n",
       "21        ['how', 'best', 'player', 'siege.step', '1', '...\n",
       "22        ['great', 'tactical', 'game', 'great', 'graphi...\n",
       "23                                            ['nice', '.']\n",
       "24        ['great', 'game', ',', 'fun', 'gameplay', ',',...\n",
       "25        ['menu', 'controls', 'stupid.you', 'spend', 'm...\n",
       "26                                         ['nice', 'game']\n",
       "27                      ['not', 'fan', 'bugs', 'community']\n",
       "28              ['i', 'like', 'tactical', 'game', ':', ')']\n",
       "29        ['amazing', 'game', ',', 'aside', 'mildly', 't...\n",
       "                                ...                        \n",
       "464176                                  ['buy', 'rn', 'ok']\n",
       "464177    ['an', 'amazing', 'game', '.', 'i', 'recommend...\n",
       "464178    ['i', 'taken', 'way', 'enjoyment', 'game', 'i'...\n",
       "464179    ['it', \"'s\", 'simply', 'best', 'games', 'i', '...\n",
       "464180    ['if', 'want', 'villian', 'number', 'one', ','...\n",
       "464181    ['user', 'reviews', ':', 'recent', ':', 'overw...\n",
       "464182    ['great', 'man', 'buy', 'tell', 'lady', 'looks...\n",
       "464183    ['in', 'regards', 'mount', 'blade', 'war', 'ba...\n",
       "464184    ['imagine', 'total', 'war', 'game', 'general',...\n",
       "464185    ['tremendous', 'game', '!', '!', '!', '!', '!'...\n",
       "464186    ['i', 'got', '99', 'swadian', 'knights', 'noth...\n",
       "464187    ['cool', 'battles', ',', 'good', 'experience',...\n",
       "464188                                           ['alt+f4']\n",
       "464189                      ['away', 'vile', 'beggar', '!']\n",
       "464190    ['i', 'get', 'it', '.', 'i', \"'m\", 'good', 'it...\n",
       "464191    ['one', 'best', 'games', 'bit', 'hard', 'times...\n",
       "464192                                    ['great', 'game']\n",
       "464193    ['matter', 'many', 'times', 'beat', 'map', 'al...\n",
       "464194    ['mount', '&', 'blade', ':', 'warband', 'medie...\n",
       "464195                             ['best', 'game', 'ever']\n",
       "464196                                  ['buy', 'rn', 'ok']\n",
       "464197    ['an', 'amazing', 'game', '.', 'i', 'recommend...\n",
       "464198    ['i', 'taken', 'way', 'enjoyment', 'game', 'i'...\n",
       "464199    ['it', \"'s\", 'simply', 'best', 'games', 'i', '...\n",
       "464200    ['if', 'want', 'villian', 'number', 'one', ','...\n",
       "464201    ['user', 'reviews', ':', 'recent', ':', 'overw...\n",
       "464202    ['great', 'man', 'buy', 'tell', 'lady', 'looks...\n",
       "464203    ['in', 'regards', 'mount', 'blade', 'war', 'ba...\n",
       "464204    ['imagine', 'total', 'war', 'game', 'general',...\n",
       "464205    ['tremendous', 'game', '!', '!', '!', '!', '!'...\n",
       "Name: text_tok, Length: 464206, dtype: object"
      ]
     },
     "execution_count": 9,
     "metadata": {},
     "output_type": "execute_result"
    }
   ],
   "source": [
    "steam_df.text_tok"
   ]
  },
  {
   "cell_type": "code",
   "execution_count": 10,
   "metadata": {},
   "outputs": [
    {
     "data": {
      "text/plain": [
       "Tom Clancy's Rainbow Six® Siege    87976\n",
       "Borderlands 2                      57592\n",
       "Subnautica                         52930\n",
       "Left 4 Dead 2                      51479\n",
       "PLAYERUNKNOWN'S BATTLEGROUNDS      40917\n",
       "Z1 Battle Royale                   39040\n",
       "Starbound                          34463\n",
       "Fallout 4                          34257\n",
       "The Forest                         33184\n",
       "Mount &amp; Blade: Warband         32368\n",
       "Name: game, dtype: int64"
      ]
     },
     "execution_count": 10,
     "metadata": {},
     "output_type": "execute_result"
    }
   ],
   "source": [
    "steam_df['game'].value_counts()"
   ]
  },
  {
   "cell_type": "code",
   "execution_count": 11,
   "metadata": {},
   "outputs": [
    {
     "data": {
      "text/plain": [
       "0"
      ]
     },
     "execution_count": 11,
     "metadata": {},
     "output_type": "execute_result"
    }
   ],
   "source": [
    "steam_df['text'].isna().sum()"
   ]
  },
  {
   "cell_type": "code",
   "execution_count": 12,
   "metadata": {},
   "outputs": [
    {
     "data": {
      "text/plain": [
       "(464206, 11)"
      ]
     },
     "execution_count": 12,
     "metadata": {},
     "output_type": "execute_result"
    }
   ],
   "source": [
    "steam_df.shape"
   ]
  },
  {
   "cell_type": "code",
   "execution_count": 13,
   "metadata": {},
   "outputs": [],
   "source": [
    "steam_df = steam_df.dropna()"
   ]
  },
  {
   "cell_type": "code",
   "execution_count": 14,
   "metadata": {},
   "outputs": [
    {
     "data": {
      "text/plain": [
       "(464206, 11)"
      ]
     },
     "execution_count": 14,
     "metadata": {},
     "output_type": "execute_result"
    }
   ],
   "source": [
    "steam_df.shape"
   ]
  },
  {
   "cell_type": "code",
   "execution_count": 17,
   "metadata": {},
   "outputs": [
    {
     "data": {
      "image/png": "[encoded data removed]",
      "text/plain": [
       "<Figure size 432x288 with 1 Axes>"
      ]
     },
     "metadata": {
      "needs_background": "light"
     },
     "output_type": "display_data"
    }
   ],
   "source": [
    "game_PCT = (steam_df.game.value_counts(ascending=False, sort=True, normalize=True)*100).head(10).reset_index()\n",
    "sns.barplot(x='game', y='index', data=game_PCT)\n",
    "plt.ylabel('', fontsize = 20)\n",
    "plt.xlabel('Review Percentage')\n",
    "plt.title(\"Percentage of Top 10 Reviewed Games\");"
   ]
  },
  {
   "cell_type": "markdown",
   "metadata": {},
   "source": [
    "#### Downsampling & TFIDF"
   ]
  },
  {
   "cell_type": "code",
   "execution_count": 28,
   "metadata": {},
   "outputs": [],
   "source": [
    "from sklearn.utils import resample"
   ]
  },
  {
   "cell_type": "code",
   "execution_count": 25,
   "metadata": {},
   "outputs": [
    {
     "data": {
      "text/plain": [
       "[\"Tom Clancy's Rainbow Six® Siege\",\n",
       " 'Borderlands 2',\n",
       " 'Subnautica',\n",
       " 'Left 4 Dead 2',\n",
       " \"PLAYERUNKNOWN'S BATTLEGROUNDS\",\n",
       " 'Z1 Battle Royale',\n",
       " 'Starbound',\n",
       " 'Fallout 4',\n",
       " 'The Forest',\n",
       " 'Mount &amp; Blade: Warband']"
      ]
     },
     "execution_count": 25,
     "metadata": {},
     "output_type": "execute_result"
    }
   ],
   "source": [
    "top_games = steam_df.game.value_counts().head(10).to_dict()\n",
    "top_games = list(top_games.keys())\n",
    "top_games"
   ]
  },
  {
   "cell_type": "code",
   "execution_count": 29,
   "metadata": {},
   "outputs": [
    {
     "name": "stdout",
     "output_type": "stream",
     "text": [
      "Tom Clancy's Rainbow Six® Siege\n",
      "Borderlands 2\n",
      "Subnautica\n",
      "Left 4 Dead 2\n",
      "PLAYERUNKNOWN'S BATTLEGROUNDS\n",
      "Z1 Battle Royale\n",
      "Starbound\n",
      "Fallout 4\n",
      "The Forest\n",
      "Mount &amp; Blade: Warband\n"
     ]
    }
   ],
   "source": [
    "downsample_df = pd.DataFrame()\n",
    "for game in top_games:\n",
    "    sample = resample(steam_df.loc[steam_df['game'] == game], n_samples = steam_df['game'].value_counts()[9], random_state = 42)\n",
    "    downsample_df = downsample_df.append(sample)\n",
    "    print (game)"
   ]
  },
  {
   "cell_type": "code",
   "execution_count": 30,
   "metadata": {},
   "outputs": [
    {
     "data": {
      "text/plain": [
       "Starbound                          32368\n",
       "The Forest                         32368\n",
       "PLAYERUNKNOWN'S BATTLEGROUNDS      32368\n",
       "Mount &amp; Blade: Warband         32368\n",
       "Subnautica                         32368\n",
       "Z1 Battle Royale                   32368\n",
       "Fallout 4                          32368\n",
       "Tom Clancy's Rainbow Six® Siege    32368\n",
       "Left 4 Dead 2                      32368\n",
       "Borderlands 2                      32368\n",
       "Name: game, dtype: int64"
      ]
     },
     "execution_count": 30,
     "metadata": {},
     "output_type": "execute_result"
    }
   ],
   "source": [
    "downsample_df['game'].value_counts()"
   ]
  },
  {
   "cell_type": "code",
   "execution_count": 32,
   "metadata": {},
   "outputs": [
    {
     "data": {
      "text/html": [
       "<div>\n",
       "<style scoped>\n",
       "    .dataframe tbody tr th:only-of-type {\n",
       "        vertical-align: middle;\n",
       "    }\n",
       "\n",
       "    .dataframe tbody tr th {\n",
       "        vertical-align: top;\n",
       "    }\n",
       "\n",
       "    .dataframe thead th {\n",
       "        text-align: right;\n",
       "    }\n",
       "</style>\n",
       "<table border=\"1\" class=\"dataframe\">\n",
       "  <thead>\n",
       "    <tr style=\"text-align: right;\">\n",
       "      <th></th>\n",
       "      <th>game</th>\n",
       "      <th>helpful_count</th>\n",
       "      <th>funny_count</th>\n",
       "      <th>username</th>\n",
       "      <th>user_owned_games</th>\n",
       "      <th>user_review_count</th>\n",
       "      <th>recommended</th>\n",
       "      <th>hours_played</th>\n",
       "      <th>review_date</th>\n",
       "      <th>text</th>\n",
       "      <th>text_tok</th>\n",
       "    </tr>\n",
       "  </thead>\n",
       "  <tbody>\n",
       "    <tr>\n",
       "      <th>15795</th>\n",
       "      <td>Tom Clancy's Rainbow Six® Siege</td>\n",
       "      <td>0</td>\n",
       "      <td>0</td>\n",
       "      <td>Exalindor</td>\n",
       "      <td>86</td>\n",
       "      <td>5</td>\n",
       "      <td>1</td>\n",
       "      <td>687.6</td>\n",
       "      <td>2018-09-11</td>\n",
       "      <td>It pleases me.</td>\n",
       "      <td>['it', 'pleases', 'me', '.']</td>\n",
       "    </tr>\n",
       "    <tr>\n",
       "      <th>860</th>\n",
       "      <td>Tom Clancy's Rainbow Six® Siege</td>\n",
       "      <td>0</td>\n",
       "      <td>0</td>\n",
       "      <td>JaydenTDM123</td>\n",
       "      <td>54</td>\n",
       "      <td>49</td>\n",
       "      <td>1</td>\n",
       "      <td>11.2</td>\n",
       "      <td>2018-12-11</td>\n",
       "      <td>Meh...</td>\n",
       "      <td>['meh', '...']</td>\n",
       "    </tr>\n",
       "    <tr>\n",
       "      <th>76820</th>\n",
       "      <td>Tom Clancy's Rainbow Six® Siege</td>\n",
       "      <td>0</td>\n",
       "      <td>0</td>\n",
       "      <td>76561198055515879</td>\n",
       "      <td>51</td>\n",
       "      <td>3</td>\n",
       "      <td>1</td>\n",
       "      <td>399.8</td>\n",
       "      <td>2016-08-12</td>\n",
       "      <td>fun game its like if CSGO + Battlefield had a ...</td>\n",
       "      <td>['fun', 'game', 'like', 'csgo', '+', 'battlefi...</td>\n",
       "    </tr>\n",
       "    <tr>\n",
       "      <th>54886</th>\n",
       "      <td>Tom Clancy's Rainbow Six® Siege</td>\n",
       "      <td>0</td>\n",
       "      <td>0</td>\n",
       "      <td>weffles101</td>\n",
       "      <td>492</td>\n",
       "      <td>29</td>\n",
       "      <td>-1</td>\n",
       "      <td>872.1</td>\n",
       "      <td>2017-09-21</td>\n",
       "      <td>Overall not a bad game but the nerf/buff opera...</td>\n",
       "      <td>['overall', 'bad', 'game', 'nerf/buff', 'opera...</td>\n",
       "    </tr>\n",
       "    <tr>\n",
       "      <th>6265</th>\n",
       "      <td>Tom Clancy's Rainbow Six® Siege</td>\n",
       "      <td>0</td>\n",
       "      <td>0</td>\n",
       "      <td>The47thassasin</td>\n",
       "      <td>20</td>\n",
       "      <td>2</td>\n",
       "      <td>1</td>\n",
       "      <td>117.0</td>\n",
       "      <td>2018-11-22</td>\n",
       "      <td>By far, the best multiplayer game I have ever ...</td>\n",
       "      <td>['by', 'far', ',', 'best', 'multiplayer', 'gam...</td>\n",
       "    </tr>\n",
       "  </tbody>\n",
       "</table>\n",
       "</div>"
      ],
      "text/plain": [
       "                                  game  helpful_count  funny_count  \\\n",
       "15795  Tom Clancy's Rainbow Six® Siege              0            0   \n",
       "860    Tom Clancy's Rainbow Six® Siege              0            0   \n",
       "76820  Tom Clancy's Rainbow Six® Siege              0            0   \n",
       "54886  Tom Clancy's Rainbow Six® Siege              0            0   \n",
       "6265   Tom Clancy's Rainbow Six® Siege              0            0   \n",
       "\n",
       "                username  user_owned_games  user_review_count  recommended  \\\n",
       "15795          Exalindor                86                  5            1   \n",
       "860         JaydenTDM123                54                 49            1   \n",
       "76820  76561198055515879                51                  3            1   \n",
       "54886         weffles101               492                 29           -1   \n",
       "6265      The47thassasin                20                  2            1   \n",
       "\n",
       "       hours_played review_date  \\\n",
       "15795         687.6  2018-09-11   \n",
       "860            11.2  2018-12-11   \n",
       "76820         399.8  2016-08-12   \n",
       "54886         872.1  2017-09-21   \n",
       "6265          117.0  2018-11-22   \n",
       "\n",
       "                                                    text  \\\n",
       "15795                                     It pleases me.   \n",
       "860                                               Meh...   \n",
       "76820  fun game its like if CSGO + Battlefield had a ...   \n",
       "54886  Overall not a bad game but the nerf/buff opera...   \n",
       "6265   By far, the best multiplayer game I have ever ...   \n",
       "\n",
       "                                                text_tok  \n",
       "15795                       ['it', 'pleases', 'me', '.']  \n",
       "860                                       ['meh', '...']  \n",
       "76820  ['fun', 'game', 'like', 'csgo', '+', 'battlefi...  \n",
       "54886  ['overall', 'bad', 'game', 'nerf/buff', 'opera...  \n",
       "6265   ['by', 'far', ',', 'best', 'multiplayer', 'gam...  "
      ]
     },
     "execution_count": 32,
     "metadata": {},
     "output_type": "execute_result"
    }
   ],
   "source": [
    "# downsample_df = downsample_df.drop('Unnamed 0', axis=1)\n",
    "downsample_df.head()"
   ]
  },
  {
   "cell_type": "code",
   "execution_count": 33,
   "metadata": {},
   "outputs": [
    {
     "data": {
      "text/plain": [
       "good          837\n",
       ".             482\n",
       "Good game     455\n",
       "10/10         433\n",
       "great game    413\n",
       "Great game    389\n",
       "nice game     346\n",
       "nice          334\n",
       "yes           325\n",
       "Name: text, dtype: int64"
      ]
     },
     "execution_count": 33,
     "metadata": {},
     "output_type": "execute_result"
    }
   ],
   "source": [
    "downsample_df.text.value_counts()[1:10]"
   ]
  },
  {
   "cell_type": "code",
   "execution_count": 34,
   "metadata": {},
   "outputs": [],
   "source": [
    "def cv(data):\n",
    "    count_vectorizer = CountVectorizer()\n",
    "\n",
    "    emb = count_vectorizer.fit_transform(data)\n",
    "\n",
    "    return emb, count_vectorizer\n",
    "\n",
    "list_corpus = downsample_df[\"text_tok\"].tolist()\n",
    "list_labels = downsample_df[\"game\"].tolist()\n",
    "\n",
    "X_train, X_test, y_train, y_test = train_test_split(list_corpus, list_labels, test_size=0.2, random_state=42)"
   ]
  },
  {
   "cell_type": "code",
   "execution_count": 35,
   "metadata": {},
   "outputs": [],
   "source": [
    "X_train_counts, count_vectorizer = cv(X_train)\n",
    "X_test_counts = count_vectorizer.transform(X_test)"
   ]
  },
  {
   "cell_type": "markdown",
   "metadata": {},
   "source": [
    "#### Logistic Regression"
   ]
  },
  {
   "cell_type": "code",
   "execution_count": null,
   "metadata": {},
   "outputs": [],
   "source": [
    "# from sklearn.linear_model import LogisticRegression\n",
    "\n",
    "# clf = LogisticRegression(C=30.0, class_weight='balanced', solver='newton-cg', \n",
    "#                          multi_class='multinomial', n_jobs=-1, random_state=42)\n",
    "# clf.fit(X_train_counts, y_train)\n",
    "\n",
    "# y_predicted_counts = clf.predict(X_test_counts)"
   ]
  },
  {
   "cell_type": "code",
   "execution_count": null,
   "metadata": {},
   "outputs": [],
   "source": [
    "# from sklearn.metrics import accuracy_score, f1_score, precision_score, recall_score, classification_report\n",
    "\n",
    "# def get_metrics(y_test, y_predicted):  \n",
    "#     # true positives / (true positives+false positives)\n",
    "#     precision = precision_score(y_test, y_predicted, pos_label=None,\n",
    "#                                     average='weighted')             \n",
    "#     # true positives / (true positives + false negatives)\n",
    "#     recall = recall_score(y_test, y_predicted, pos_label=None,\n",
    "#                               average='weighted')\n",
    "    \n",
    "#     # harmonic mean of precision and recall\n",
    "#     f1 = f1_score(y_test, y_predicted, pos_label=None, average='weighted')\n",
    "    \n",
    "#     # true positives + true negatives/ total\n",
    "#     accuracy = accuracy_score(y_test, y_predicted)\n",
    "#     return accuracy, precision, recall, f1\n",
    "\n",
    "# accuracy, precision, recall, f1 = get_metrics(y_test, y_predicted_counts)\n",
    "# print(\"accuracy = %.3f, precision = %.3f, recall = %.3f, f1 = %.3f\" % (accuracy, precision, recall, f1))"
   ]
  },
  {
   "cell_type": "code",
   "execution_count": null,
   "metadata": {},
   "outputs": [],
   "source": [
    "#from gensim.test.utils import common_texts, get_tmpfile\n",
    "#from gensim.models import Word2Vec\n",
    "#path = get_tmpfile(\"word2vec.model\")"
   ]
  },
  {
   "cell_type": "code",
   "execution_count": null,
   "metadata": {},
   "outputs": [],
   "source": [
    "#model = Word2Vec(list_corpus, size=100, window=5, min_count=1, workers=4)\n",
    "#model.save(\"word2vec.model\")"
   ]
  },
  {
   "cell_type": "code",
   "execution_count": 36,
   "metadata": {},
   "outputs": [],
   "source": [
    "from sklearn.feature_extraction.text import TfidfVectorizer"
   ]
  },
  {
   "cell_type": "code",
   "execution_count": 37,
   "metadata": {},
   "outputs": [],
   "source": [
    "tfidf = TfidfVectorizer(ngram_range = (2, 3), lowercase = False)\n",
    "X_train_tfidf = tfidf.fit_transform(X_train)\n",
    "X_test_tfidf = tfidf.transform(X_test)"
   ]
  },
  {
   "cell_type": "code",
   "execution_count": 38,
   "metadata": {},
   "outputs": [],
   "source": [
    "from sklearn.metrics import accuracy_score, confusion_matrix, f1_score"
   ]
  },
  {
   "cell_type": "code",
   "execution_count": 24,
   "metadata": {},
   "outputs": [
    {
     "name": "stderr",
     "output_type": "stream",
     "text": [
      "E:\\WPy64-3720\\python-3.7.2.amd64\\lib\\site-packages\\sklearn\\linear_model\\logistic.py:433: FutureWarning: Default solver will be changed to 'lbfgs' in 0.22. Specify a solver to silence this warning.\n",
      "  FutureWarning)\n",
      "E:\\WPy64-3720\\python-3.7.2.amd64\\lib\\site-packages\\sklearn\\linear_model\\logistic.py:460: FutureWarning: Default multi_class will be changed to 'auto' in 0.22. Specify the multi_class option to silence this warning.\n",
      "  \"this warning.\", FutureWarning)\n"
     ]
    }
   ],
   "source": [
    "from sklearn.linear_model import LogisticRegression\n",
    "log = LogisticRegression()\n",
    "\n",
    "log.fit(X_train_tfidf, y_train)\n",
    "\n",
    "y_pred = log.predict(X_test_tfidf)"
   ]
  },
  {
   "cell_type": "code",
   "execution_count": 52,
   "metadata": {},
   "outputs": [
    {
     "name": "stdout",
     "output_type": "stream",
     "text": [
      "Logisitc Regression:\n",
      "accuracy: \n",
      "0.7243714404778442\n",
      "F1 score: \n",
      "0.7304066121861544\n",
      "confusion matrix: \n",
      "[[7766  127  564  507 1170  232  349  207  298  196]\n",
      " [ 358 9165  181  234  866  149  253  101  177  182]\n",
      " [ 699   67 7541  385 1587  145  243  237  367  304]\n",
      " [ 482   82  317 8760  899  176  267   93  187  160]\n",
      " [ 238   58  310  166 9420   88  133  118  305  664]\n",
      " [ 339   65  270  273  745 8949  448  167  151  188]\n",
      " [ 364   69  201  244  646  300 8941  412  169  198]\n",
      " [ 338   58  357  179  910  142  619 8360  187  207]\n",
      " [ 507   73  536  336 1931  177  295  178 6929  567]\n",
      " [ 288   69  369  169 2242  120  180  195  342 7605]]\n"
     ]
    }
   ],
   "source": [
    "print('Logisitc Regression:')\n",
    "print(\"accuracy: \")\n",
    "print(accuracy_score(y_test, y_pred))\n",
    "\n",
    "print(\"F1 score: \")\n",
    "print(f1_score(y_test, y_pred, pos_label = None, average = 'weighted'))\n",
    "\n",
    "print(\"confusion matrix: \")\n",
    "print(confusion_matrix(y_test, y_pred))"
   ]
  },
  {
   "cell_type": "code",
   "execution_count": 53,
   "metadata": {},
   "outputs": [
    {
     "name": "stdout",
     "output_type": "stream",
     "text": [
      "Logistic Regression Classificaion Report:\n",
      "                                 precision    recall  f1-score   support\n",
      "\n",
      "                  Borderlands 2       0.68      0.68      0.68     11416\n",
      "                      Fallout 4       0.93      0.79      0.85     11666\n",
      "                  Left 4 Dead 2       0.71      0.65      0.68     11575\n",
      "     Mount &amp; Blade: Warband       0.78      0.77      0.77     11423\n",
      "  PLAYERUNKNOWN'S BATTLEGROUNDS       0.46      0.82      0.59     11500\n",
      "                      Starbound       0.85      0.77      0.81     11595\n",
      "                     Subnautica       0.76      0.77      0.77     11544\n",
      "                     The Forest       0.83      0.74      0.78     11357\n",
      "Tom Clancy's Rainbow Six® Siege       0.76      0.60      0.67     11529\n",
      "               Z1 Battle Royale       0.74      0.66      0.70     11579\n",
      "\n",
      "                      micro avg       0.72      0.72      0.72    115184\n",
      "                      macro avg       0.75      0.72      0.73    115184\n",
      "                   weighted avg       0.75      0.72      0.73    115184\n",
      "\n"
     ]
    }
   ],
   "source": [
    "from sklearn.metrics import classification_report\n",
    "print('Logistic Regression Classificaion Report:')\n",
    "print(classification_report(y_test, y_pred))"
   ]
  },
  {
   "cell_type": "markdown",
   "metadata": {},
   "source": [
    "#### Upsampling and TFIDF"
   ]
  },
  {
   "cell_type": "code",
   "execution_count": 39,
   "metadata": {},
   "outputs": [
    {
     "name": "stdout",
     "output_type": "stream",
     "text": [
      "Tom Clancy's Rainbow Six® Siege\n",
      "Borderlands 2\n",
      "Subnautica\n",
      "Left 4 Dead 2\n",
      "PLAYERUNKNOWN'S BATTLEGROUNDS\n",
      "Z1 Battle Royale\n",
      "Starbound\n",
      "Fallout 4\n",
      "The Forest\n",
      "Mount &amp; Blade: Warband\n"
     ]
    }
   ],
   "source": [
    "upsample_df = pd.DataFrame()\n",
    "for game in top_games:\n",
    "    sample = resample(steam_df.loc[steam_df['game'] == game], n_samples = steam_df['game'].value_counts()[1], random_state = 42)\n",
    "    upsample_df = upsample_df.append(sample)\n",
    "    print (game)"
   ]
  },
  {
   "cell_type": "code",
   "execution_count": 40,
   "metadata": {},
   "outputs": [],
   "source": [
    "list_corpus = upsample_df[\"text_tok\"].tolist()\n",
    "list_labels = upsample_df[\"game\"].tolist()\n",
    "\n",
    "X_train, X_test, y_train, y_test = train_test_split(list_corpus, list_labels, test_size=0.2, random_state=42)"
   ]
  },
  {
   "cell_type": "code",
   "execution_count": 41,
   "metadata": {},
   "outputs": [],
   "source": [
    "X_train_counts, count_vectorizer = cv(X_train)\n",
    "X_test_counts = count_vectorizer.transform(X_test)"
   ]
  },
  {
   "cell_type": "code",
   "execution_count": 42,
   "metadata": {},
   "outputs": [],
   "source": [
    "tfidf = TfidfVectorizer(ngram_range = (2, 3), lowercase = False)\n",
    "X_train_tfidf_up = tfidf.fit_transform(X_train)\n",
    "X_test_tfidf_up = tfidf.transform(X_test)"
   ]
  },
  {
   "cell_type": "markdown",
   "metadata": {},
   "source": [
    "#### Logistic Regression"
   ]
  },
  {
   "cell_type": "code",
   "execution_count": 38,
   "metadata": {},
   "outputs": [
    {
     "name": "stderr",
     "output_type": "stream",
     "text": [
      "E:\\WPy64-3720\\python-3.7.2.amd64\\lib\\site-packages\\sklearn\\linear_model\\logistic.py:433: FutureWarning: Default solver will be changed to 'lbfgs' in 0.22. Specify a solver to silence this warning.\n",
      "  FutureWarning)\n",
      "E:\\WPy64-3720\\python-3.7.2.amd64\\lib\\site-packages\\sklearn\\linear_model\\logistic.py:460: FutureWarning: Default multi_class will be changed to 'auto' in 0.22. Specify the multi_class option to silence this warning.\n",
      "  \"this warning.\", FutureWarning)\n"
     ]
    }
   ],
   "source": [
    "log = LogisticRegression()\n",
    "\n",
    "log.fit(X_train_tfidf_up, y_train)\n",
    "\n",
    "y_pred = log.predict(X_test_tfidf_up)"
   ]
  },
  {
   "cell_type": "code",
   "execution_count": 50,
   "metadata": {},
   "outputs": [
    {
     "name": "stdout",
     "output_type": "stream",
     "text": [
      "Logistic Regression\n",
      "accuracy: \n",
      "0.7243714404778442\n",
      "F1 score: \n",
      "0.7304066121861544\n",
      "confusion matrix: \n",
      "[[7766  127  564  507 1170  232  349  207  298  196]\n",
      " [ 358 9165  181  234  866  149  253  101  177  182]\n",
      " [ 699   67 7541  385 1587  145  243  237  367  304]\n",
      " [ 482   82  317 8760  899  176  267   93  187  160]\n",
      " [ 238   58  310  166 9420   88  133  118  305  664]\n",
      " [ 339   65  270  273  745 8949  448  167  151  188]\n",
      " [ 364   69  201  244  646  300 8941  412  169  198]\n",
      " [ 338   58  357  179  910  142  619 8360  187  207]\n",
      " [ 507   73  536  336 1931  177  295  178 6929  567]\n",
      " [ 288   69  369  169 2242  120  180  195  342 7605]]\n"
     ]
    }
   ],
   "source": [
    "print(\"Logistic Regression\")\n",
    "print(\"accuracy: \")\n",
    "print(accuracy_score(y_test, y_pred))\n",
    "\n",
    "print(\"F1 score: \")\n",
    "print(f1_score(y_test, y_pred, pos_label = None, average = 'weighted'))\n",
    "\n",
    "print(\"confusion matrix: \")\n",
    "print(confusion_matrix(y_test, y_pred))"
   ]
  },
  {
   "cell_type": "code",
   "execution_count": 51,
   "metadata": {},
   "outputs": [
    {
     "name": "stdout",
     "output_type": "stream",
     "text": [
      "Logistic Regression Classification Report:\n",
      "                                 precision    recall  f1-score   support\n",
      "\n",
      "                  Borderlands 2       0.68      0.68      0.68     11416\n",
      "                      Fallout 4       0.93      0.79      0.85     11666\n",
      "                  Left 4 Dead 2       0.71      0.65      0.68     11575\n",
      "     Mount &amp; Blade: Warband       0.78      0.77      0.77     11423\n",
      "  PLAYERUNKNOWN'S BATTLEGROUNDS       0.46      0.82      0.59     11500\n",
      "                      Starbound       0.85      0.77      0.81     11595\n",
      "                     Subnautica       0.76      0.77      0.77     11544\n",
      "                     The Forest       0.83      0.74      0.78     11357\n",
      "Tom Clancy's Rainbow Six® Siege       0.76      0.60      0.67     11529\n",
      "               Z1 Battle Royale       0.74      0.66      0.70     11579\n",
      "\n",
      "                      micro avg       0.72      0.72      0.72    115184\n",
      "                      macro avg       0.75      0.72      0.73    115184\n",
      "                   weighted avg       0.75      0.72      0.73    115184\n",
      "\n"
     ]
    }
   ],
   "source": [
    "print('Logistic Regression Classification Report:')\n",
    "print(classification_report(y_test, y_pred))"
   ]
  },
  {
   "cell_type": "markdown",
   "metadata": {},
   "source": [
    "#### Now repeating using an Linear SVC classifier"
   ]
  },
  {
   "cell_type": "code",
   "execution_count": 43,
   "metadata": {},
   "outputs": [],
   "source": [
    "from sklearn.svm import SVC, LinearSVC\n",
    "\n",
    "SVC = SVC()\n",
    "LSVC = LinearSVC()"
   ]
  },
  {
   "cell_type": "code",
   "execution_count": 45,
   "metadata": {},
   "outputs": [
    {
     "name": "stdout",
     "output_type": "stream",
     "text": [
      "LSVC Classification:\n",
      "                                 precision    recall  f1-score   support\n",
      "\n",
      "                  Borderlands 2       0.71      0.71      0.71     11416\n",
      "                      Fallout 4       0.92      0.83      0.87     11666\n",
      "                  Left 4 Dead 2       0.73      0.69      0.71     11575\n",
      "     Mount &amp; Blade: Warband       0.83      0.79      0.81     11423\n",
      "  PLAYERUNKNOWN'S BATTLEGROUNDS       0.79      0.72      0.75     11500\n",
      "                      Starbound       0.88      0.81      0.84     11595\n",
      "                     Subnautica       0.83      0.80      0.81     11544\n",
      "                     The Forest       0.85      0.78      0.82     11357\n",
      "Tom Clancy's Rainbow Six® Siege       0.79      0.63      0.70     11529\n",
      "               Z1 Battle Royale       0.48      0.81      0.60     11579\n",
      "\n",
      "                      micro avg       0.76      0.76      0.76    115184\n",
      "                      macro avg       0.78      0.76      0.76    115184\n",
      "                   weighted avg       0.78      0.76      0.76    115184\n",
      "\n"
     ]
    }
   ],
   "source": [
    "from sklearn.metrics import classification_report\n",
    "LSVC.fit(X_train_tfidf_up, y_train)\n",
    "y_pred = LSVC.predict(X_test_tfidf_up)\n",
    "print('LSVC Classification:')\n",
    "print(classification_report(y_test, y_pred))"
   ]
  },
  {
   "cell_type": "code",
   "execution_count": 46,
   "metadata": {},
   "outputs": [
    {
     "name": "stdout",
     "output_type": "stream",
     "text": [
      "Linear SVC:\n",
      "accuracy: \n",
      "0.7570322266981525\n",
      "F1 score: \n",
      "0.7630920478883497\n",
      "confusion matrix: \n",
      "[[8097  153  566  367  147  211  263  178  290 1144]\n",
      " [ 293 9672  177  169  117  103  153   75  153  754]\n",
      " [ 586   96 7998  288  271  154  161  211  312 1498]\n",
      " [ 470   91  297 9023  102  124  176   94  178  868]\n",
      " [ 215   73  295  116 8281   75   95  104  292 1954]\n",
      " [ 310   58  243  182   77 9408  293  165  137  722]\n",
      " [ 339   89  209  183  143  268 9199  360  172  582]\n",
      " [ 299   64  324  130  122  121  428 8861  149  859]\n",
      " [ 497  102  547  262  524  162  209  161 7306 1759]\n",
      " [ 302  101  337  102  711  103  115  159  296 9353]]\n"
     ]
    }
   ],
   "source": [
    "print(\"Linear SVC:\")\n",
    "print(\"accuracy: \")\n",
    "print(accuracy_score(y_test, y_pred))\n",
    "\n",
    "print(\"F1 score: \")\n",
    "print(f1_score(y_test, y_pred, pos_label = None, average = 'weighted'))\n",
    "\n",
    "print(\"confusion matrix: \")\n",
    "print(confusion_matrix(y_test, y_pred))"
   ]
  },
  {
   "cell_type": "markdown",
   "metadata": {},
   "source": [
    "#### Regular SVC Classifier"
   ]
  },
  {
   "cell_type": "code",
   "execution_count": null,
   "metadata": {},
   "outputs": [
    {
     "name": "stderr",
     "output_type": "stream",
     "text": [
      "E:\\WPy64-3720\\python-3.7.2.amd64\\lib\\site-packages\\sklearn\\svm\\base.py:196: FutureWarning: The default value of gamma will change from 'auto' to 'scale' in version 0.22 to account better for unscaled features. Set gamma explicitly to 'auto' or 'scale' to avoid this warning.\n",
      "  \"avoid this warning.\", FutureWarning)\n"
     ]
    }
   ],
   "source": [
    "# SVC.fit(X_train_tfidf_up, y_train)\n",
    "# y_pred = SVC.predict(X_test_tfidf_up)\n",
    "# print('SVC Classification:')\n",
    "# print(classification_report(y_test, y_pred))"
   ]
  },
  {
   "cell_type": "code",
   "execution_count": null,
   "metadata": {},
   "outputs": [],
   "source": [
    "# print(\"Support Vector Classifier (SVC):\")\n",
    "# print(\"accuracy: \")\n",
    "# print(accuracy_score(y_test, y_pred))\n",
    "\n",
    "# print(\"F1 score: \")\n",
    "# print(f1_score(y_test, y_pred, pos_label = None, average = 'weighted'))\n",
    "\n",
    "# print(\"confusion matrix: \")\n",
    "# print(confusion_matrix(y_test, y_pred))"
   ]
  }
 ],
 "metadata": {
  "kernelspec": {
   "display_name": "Python 3",
   "language": "python",
   "name": "python3"
  },
  "language_info": {
   "codemirror_mode": {
    "name": "ipython",
    "version": 3
   },
   "file_extension": ".py",
   "mimetype": "text/x-python",
   "name": "python",
   "nbconvert_exporter": "python",
   "pygments_lexer": "ipython3",
   "version": "3.6.6"
  }
 },
 "nbformat": 4,
 "nbformat_minor": 2
}
